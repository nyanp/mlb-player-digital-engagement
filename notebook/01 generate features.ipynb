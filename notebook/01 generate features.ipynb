{
 "cells": [
  {
   "cell_type": "code",
   "execution_count": null,
   "id": "43208ebb",
   "metadata": {},
   "outputs": [],
   "source": [
    "import sys\n",
    "sys.path.append('../')\n",
    "\n",
    "from src.parallel import *"
   ]
  },
  {
   "cell_type": "code",
   "execution_count": null,
   "id": "2a20f3d2",
   "metadata": {},
   "outputs": [],
   "source": [
    "FEATURES = [\n",
    "    'f001', 'f002', 'f005', 'f007', 'f014', \n",
    "    'f020', 'f021', 'f022', 'f023', 'f024', 'f026', 'f028', 'f029', \n",
    "    'f037', 'f058', \n",
    "    'f100', 'f102', 'f103', 'f105', 'f110', 'f111', 'f120', 'f121', 'f131', 'f136', 'f138', 'f150', 'f151', \n",
    "    'f300', 'f301', 'f303', \n",
    "    'f400', 'f401', 'f402', 'f403', 'f404', 'f408', 'f410', 'f418', \n",
    "    'f707'\n",
    "]\n",
    "\n",
    "SRC_DATA_DIR = '../input/mlb-player-digital-engagement-forecasting'\n",
    "FEATURE_DIR = '../features'\n",
    "\n",
    "N_PROCESSES = 16\n",
    "\n",
    "for feat in FEATURES:\n",
    "    for lag in [3, 7, 14, 21, 28, 35, 45]:\n",
    "        try:\n",
    "            make_feture_parallel(SRC_DATA_DIR, feat, n_process=N_PROCESSES, lag_requirements=lag, feature_store=FEATURE_DIR)\n",
    "        except:\n",
    "            pass"
   ]
  }
 ],
 "metadata": {
  "kernelspec": {
   "display_name": "Python 3",
   "language": "python",
   "name": "python3"
  },
  "language_info": {
   "codemirror_mode": {
    "name": "ipython",
    "version": 3
   },
   "file_extension": ".py",
   "mimetype": "text/x-python",
   "name": "python",
   "nbconvert_exporter": "python",
   "pygments_lexer": "ipython3",
   "version": "3.7.2"
  }
 },
 "nbformat": 4,
 "nbformat_minor": 5
}