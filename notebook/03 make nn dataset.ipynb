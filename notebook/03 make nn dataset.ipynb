{
 "cells": [
  {
   "cell_type": "code",
   "execution_count": null,
   "id": "35e87361",
   "metadata": {},
   "outputs": [],
   "source": [
    "import sys\n",
    "import time\n",
    "from contextlib import contextmanager\n",
    "\n",
    "sys.path.append('../')\n",
    "\n",
    "from src.feature import *\n",
    "from src.store import *\n",
    "from src.parser import *\n",
    "from src.dataset_helper import *\n",
    "\n",
    "@contextmanager\n",
    "def timer(name):\n",
    "    s = time.time()\n",
    "    yield\n",
    "    elapsed = time.time() - s\n",
    "    print(f\"[{name}] {elapsed:.3f}s\")\n",
    "    \n",
    "TARGET_COLS = ['target1', 'target2', 'target3', 'target4']\n",
    "DATA_DIR = '../input/mlb-player-digital-engagement-forecasting'\n",
    "OUTPUT_DIR = '../features'\n",
    "USE_UPDATED = True"
   ]
  },
  {
   "cell_type": "code",
   "execution_count": null,
   "id": "cfbbc166",
   "metadata": {},
   "outputs": [],
   "source": [
    "with timer('load'):\n",
    "    store = Store.train(DATA_DIR, use_updated=USE_UPDATED)"
   ]
  },
  {
   "cell_type": "code",
   "execution_count": null,
   "id": "2a16ac59",
   "metadata": {},
   "outputs": [],
   "source": [
    "FEATURES = [\n",
    "    #'f000',\n",
    "    'f022',\n",
    "    'f001',\n",
    "    'f002',\n",
    "    'f024',\n",
    "    #'f003',\n",
    "    #'f004',\n",
    "    'f023',\n",
    "    'f005', \n",
    "    #'f006',\n",
    "    'f021',\n",
    "    #'f007',\n",
    "    'f014',\n",
    "    'f037',\n",
    "    \n",
    "    'f100',\n",
    "    'f102',\n",
    "    'f103',\n",
    "    'f105',\n",
    "    'f110',\n",
    "    'f111',\n",
    "    'f120',\n",
    "    'f121',\n",
    "    'f131',\n",
    "\n",
    "     'f300',\n",
    "     'f400',\n",
    "     'f401',\n",
    "     'f402',\n",
    "     'f403',\n",
    "     'f404',\n",
    "    'f408',\n",
    "    'f410',\n",
    "    \n",
    "    'f020',\n",
    "    'f303'\n",
    "]\n"
   ]
  },
  {
   "cell_type": "code",
   "execution_count": null,
   "id": "a8d22a80",
   "metadata": {},
   "outputs": [],
   "source": [
    "df_train = make_df_base_from_train_engagement(load_subdata(DATA_DIR, 'nextDayPlayerEngagement', USE_UPDATED))\n",
    "\n",
    "season_df = pd.read_csv(os.path.join(DATA_DIR, 'seasons.csv'))"
   ]
  },
  {
   "cell_type": "code",
   "execution_count": null,
   "id": "6116266a",
   "metadata": {},
   "outputs": [],
   "source": [
    "import gc\n",
    "\n",
    "for lag in [0, 3, 7, 14, 21, 28, 35, 45]:\n",
    "    X = make_feature(df_train, store, FEATURES, save_to_store=False, with_target=True, lag_requirements=lag, second_order_feature=True)\n",
    "    X.to_feather(os.path.join(OUTPUT_DIR, f'X_{lag}_2nd.f'))\n",
    "    del X\n",
    "    gc.collect()\n"
   ]
  }
 ],
 "metadata": {
  "kernelspec": {
   "display_name": "Python 3",
   "language": "python",
   "name": "python3"
  },
  "language_info": {
   "codemirror_mode": {
    "name": "ipython",
    "version": 3
   },
   "file_extension": ".py",
   "mimetype": "text/x-python",
   "name": "python",
   "nbconvert_exporter": "python",
   "pygments_lexer": "ipython3",
   "version": "3.7.2"
  }
 },
 "nbformat": 4,
 "nbformat_minor": 5
}