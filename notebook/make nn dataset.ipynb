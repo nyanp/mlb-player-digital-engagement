{
 "cells": [
  {
   "cell_type": "code",
   "execution_count": null,
   "id": "f3ac648d",
   "metadata": {},
   "outputs": [],
   "source": [
    "import copy\n",
    "import os\n",
    "import sys\n",
    "import time\n",
    "from contextlib import contextmanager\n",
    "\n",
    "import pandas as pd\n",
    "import numpy as np\n",
    "import wandb\n",
    "\n",
    "import nyaggle\n",
    "from nyaggle.experiment import run_experiment\n",
    "import lightgbm as lgb\n",
    "\n",
    "\n",
    "sys.path.append('../')\n",
    "\n",
    "from src.feature import *\n",
    "from src.store import *\n",
    "from src.parser import *\n",
    "from src.nn import *\n",
    "\n",
    "@contextmanager\n",
    "def timer(name):\n",
    "    s = time.time()\n",
    "    yield\n",
    "    elapsed = time.time() - s\n",
    "    print(f\"[{name}] {elapsed:.3f}s\")\n",
    "    \n",
    "TARGET_COLS = ['target1', 'target2', 'target3', 'target4']\n",
    "DATA_DIR = '../input/mlb-player-digital-engagement-forecasting'\n",
    "EXP_NAME = ''\n",
    "FEATURES = get_feature_list()\n",
    "TRAIN_FULL = False\n",
    "USE_UPDATED = True"
   ]
  },
  {
   "cell_type": "code",
   "execution_count": null,
   "id": "fd3954d8",
   "metadata": {},
   "outputs": [],
   "source": [
    "with timer('load'):\n",
    "    store = Store.train(DATA_DIR, use_updated=USE_UPDATED)"
   ]
  },
  {
   "cell_type": "code",
   "execution_count": null,
   "id": "8c0440ff",
   "metadata": {},
   "outputs": [],
   "source": [
    "FEATURES = [\n",
    "    #'f000',\n",
    "    'f022',\n",
    "    'f001',\n",
    "    'f002',\n",
    "    'f024',\n",
    "    #'f003',\n",
    "    #'f004',\n",
    "    'f023',\n",
    "    'f005', \n",
    "    #'f006',\n",
    "    'f021',\n",
    "    #'f007',\n",
    "    'f014',\n",
    "    'f037',\n",
    "    \n",
    "    'f100',\n",
    "    'f102',\n",
    "    'f103',\n",
    "    'f105',\n",
    "    'f110',\n",
    "    'f111',\n",
    "    'f120',\n",
    "    'f121',\n",
    "    'f131',\n",
    "\n",
    "     'f300',\n",
    "     'f400',\n",
    "     'f401',\n",
    "     'f402',\n",
    "     'f403',\n",
    "     'f404',\n",
    "    'f408',\n",
    "    'f410',\n",
    "    \n",
    "    'f020',\n",
    "    'f303'\n",
    "]\n"
   ]
  },
  {
   "cell_type": "code",
   "execution_count": null,
   "id": "9d53fee9",
   "metadata": {},
   "outputs": [],
   "source": [
    "if USE_UPDATED:\n",
    "    df_train = make_df_base_from_train_engagement(pd.read_feather('../input/mlb-player-digital-engagement-forecasting/train_nextDayPlayerEngagement_updated.f'))\n",
    "else:\n",
    "    df_train = make_df_base_from_train_engagement(pd.read_feather('../input/mlb-player-digital-engagement-forecasting/train_nextDayPlayerEngagement.f'))\n",
    "\n",
    "season_df = pd.read_csv(os.path.join(DATA_DIR, 'seasons.csv'))"
   ]
  },
  {
   "cell_type": "code",
   "execution_count": null,
   "id": "f0764ee5",
   "metadata": {},
   "outputs": [],
   "source": [
    "import gc\n",
    "\n",
    "for lag in [0, 3, 7, 14, 21, 28, 35, 45]:\n",
    "    X = make_feature(df_train, store, FEATURES, save_to_store=False, with_target=True, lag_requirements=lag, second_order_feature=True)\n",
    "    X.to_feather(f'X_{lag}_2nd.f')\n",
    "    del X\n",
    "    gc.collect()\n"
   ]
  }
 ],
 "metadata": {
  "kernelspec": {
   "display_name": "Python 3",
   "language": "python",
   "name": "python3"
  },
  "language_info": {
   "codemirror_mode": {
    "name": "ipython",
    "version": 3
   },
   "file_extension": ".py",
   "mimetype": "text/x-python",
   "name": "python",
   "nbconvert_exporter": "python",
   "pygments_lexer": "ipython3",
   "version": "3.7.2"
  }
 },
 "nbformat": 4,
 "nbformat_minor": 5
}
